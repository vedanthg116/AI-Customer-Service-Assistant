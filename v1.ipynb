{
 "cells": [
  {
   "cell_type": "code",
   "execution_count": 2,
   "metadata": {},
   "outputs": [
    {
     "name": "stdout",
     "output_type": "stream",
     "text": [
      "DatasetDict({\n",
      "    train: Dataset({\n",
      "        features: ['flags', 'instruction', 'category', 'intent', 'response'],\n",
      "        num_rows: 26872\n",
      "    })\n",
      "})\n"
     ]
    }
   ],
   "source": [
    "# Assuming you have already installed the datasets library:\n",
    "# !pip install datasets pyarrow # pyarrow is good to have for parquet\n",
    "\n",
    "from datasets import load_dataset\n",
    "import pandas as pd # You might need this if you prefer saving as CSV/JSON from pandas\n",
    "\n",
    "# Load the dataset\n",
    "dataset = load_dataset(\"bitext/Bitext-customer-support-llm-chatbot-training-dataset\")\n",
    "\n",
    "# The 'dataset' object is a DatasetDict (contains 'train' and 'validation' splits)\n",
    "print(dataset)"
   ]
  },
  {
   "cell_type": "code",
   "execution_count": 3,
   "metadata": {},
   "outputs": [
    {
     "name": "stdout",
     "output_type": "stream",
     "text": [
      "Original training data size: 26872\n",
      "New training data size: 21497\n",
      "Temporary test data size: 5375\n",
      "Validation data size: 2687\n",
      "Final test data size: 2688\n"
     ]
    }
   ],
   "source": [
    "from datasets import load_dataset\n",
    "\n",
    "# Load the dataset\n",
    "dataset = load_dataset(\"bitext/Bitext-customer-support-llm-chatbot-training-dataset\")\n",
    "\n",
    "# Access the main 'train' split\n",
    "original_train_data = dataset['train']\n",
    "print(f\"Original training data size: {len(original_train_data)}\")\n",
    "\n",
    "# --- Step 1: Create a temporary train-test split ---\n",
    "# We'll first split the original 'train' data into a new 'train' and a 'temp_test' set.\n",
    "# Let's say 80% for new training and 20% for a temporary test set.\n",
    "temp_splits = original_train_data.train_test_split(test_size=0.2, seed=42) # Using a seed for reproducibility\n",
    "\n",
    "new_train_data = temp_splits['train']\n",
    "temp_test_data = temp_splits['test']\n",
    "\n",
    "print(f\"New training data size: {len(new_train_data)}\")\n",
    "print(f\"Temporary test data size: {len(temp_test_data)}\")\n",
    "\n",
    "\n",
    "# --- Step 2: Split the 'temp_test' into 'validation' and 'test' ---\n",
    "# Now, take the `temp_test_data` and split it further.\n",
    "# For example, split it 50/50 to get 10% for validation and 10% for final test (from original 20%).\n",
    "final_splits = temp_test_data.train_test_split(test_size=0.5, seed=42) # 0.5 of 20% = 10%\n",
    "\n",
    "validation_data = final_splits['train'] # The 'train' part of this split becomes your validation\n",
    "test_data = final_splits['test']       # The 'test' part of this split becomes your final test\n",
    "\n",
    "print(f\"Validation data size: {len(validation_data)}\")\n",
    "print(f\"Final test data size: {len(test_data)}\")\n",
    "\n",
    "# Now you have your desired splits:\n",
    "# new_train_data\n",
    "# validation_data\n",
    "# test_data"
   ]
  },
  {
   "cell_type": "code",
   "execution_count": 4,
   "metadata": {},
   "outputs": [
    {
     "data": {
      "application/vnd.jupyter.widget-view+json": {
       "model_id": "aefedcf4d9bd4b868d2d87660ff394f8",
       "version_major": 2,
       "version_minor": 0
      },
      "text/plain": [
       "Saving the dataset (0/1 shards):   0%|          | 0/21497 [00:00<?, ? examples/s]"
      ]
     },
     "metadata": {},
     "output_type": "display_data"
    },
    {
     "name": "stdout",
     "output_type": "stream",
     "text": [
      "New training split saved to: ./bitext_customer_support_train_split\n"
     ]
    },
    {
     "data": {
      "application/vnd.jupyter.widget-view+json": {
       "model_id": "ce2e0a4b09ec44fc90b773f6ff9a8bc2",
       "version_major": 2,
       "version_minor": 0
      },
      "text/plain": [
       "Saving the dataset (0/1 shards):   0%|          | 0/2687 [00:00<?, ? examples/s]"
      ]
     },
     "metadata": {},
     "output_type": "display_data"
    },
    {
     "name": "stdout",
     "output_type": "stream",
     "text": [
      "Validation split saved to: ./bitext_customer_support_validation_split\n"
     ]
    },
    {
     "data": {
      "application/vnd.jupyter.widget-view+json": {
       "model_id": "58fe95088cb8466fabe6deb065eec1af",
       "version_major": 2,
       "version_minor": 0
      },
      "text/plain": [
       "Saving the dataset (0/1 shards):   0%|          | 0/2688 [00:00<?, ? examples/s]"
      ]
     },
     "metadata": {},
     "output_type": "display_data"
    },
    {
     "name": "stdout",
     "output_type": "stream",
     "text": [
      "Final test split saved to: ./bitext_customer_support_test_split\n"
     ]
    }
   ],
   "source": [
    "# Define paths to save your new splits\n",
    "save_path_train = \"./bitext_customer_support_train_split\"\n",
    "save_path_validation = \"./bitext_customer_support_validation_split\"\n",
    "save_path_test = \"./bitext_customer_support_test_split\"\n",
    "\n",
    "# Save the new training split\n",
    "new_train_data.save_to_disk(save_path_train)\n",
    "print(f\"New training split saved to: {save_path_train}\")\n",
    "\n",
    "# Save the validation split\n",
    "validation_data.save_to_disk(save_path_validation)\n",
    "print(f\"Validation split saved to: {save_path_validation}\")\n",
    "\n",
    "# Save the final test split\n",
    "test_data.save_to_disk(save_path_test)\n",
    "print(f\"Final test split saved to: {save_path_test}\")"
   ]
  },
  {
   "cell_type": "code",
   "execution_count": 5,
   "metadata": {},
   "outputs": [
    {
     "name": "stdout",
     "output_type": "stream",
     "text": [
      "Example from new_train_data:\n",
      "{'flags': 'BLM', 'instruction': 'I am trying to delete some items from order {{Order Number}}', 'category': 'ORDER', 'intent': 'change_order', 'response': 'Thank you for bringing this to our attention. I understand that you would like to delete some items from order number {{Order Number}}. We apologize for any inconvenience this may have caused. To facilitate the deletion process, could you please provide the specific details of the items you wish to remove? Once we receive the information, we will work swiftly to ensure the necessary modifications are made. Our ultimate goal is to provide you with a seamless and satisfactory shopping experience.'}\n",
      "\n",
      "--- Example 1 ---\n",
      "Instruction: I am trying to delete some items from order {{Order Number}}\n",
      "Response: Thank you for bringing this to our attention. I understand that you would like to delete some items from order number {{Order Number}}. We apologize for any inconvenience this may have caused. To facilitate the deletion process, could you please provide the specific details of the items you wish to remove? Once we receive the information, we will work swiftly to ensure the necessary modifications are made. Our ultimate goal is to provide you with a seamless and satisfactory shopping experience.\n",
      "Category: ORDER\n",
      "Intent: change_order\n",
      "\n",
      "--- Example 2 ---\n",
      "Instruction: i cannot set up my shipping address\n",
      "Response: I appreciate that you're having difficulties setting up your shipping address. I apologize for the inconvenience caused. To assist you better, could you please provide more information about the specific issues you are facing? Are you receiving any error messages or encountering any obstacles during the process? With more details, I'll be able to provide you with the most accurate guidance and solutions to resolve the issue promptly. Your satisfaction is our priority, and I'm here to ensure a smooth and hassle-free experience.\n",
      "Category: SHIPPING\n",
      "Intent: set_up_shipping_address\n",
      "\n",
      "--- Example 3 ---\n",
      "Instruction: how do I check the current status of order {{Order Number}}?\n",
      "Response: Hello! Thank you for reaching out. I understand that you would like to check the current status of your order with the order number {{Order Number}}. To do so, you can visit our website and navigate to the \"Order Tracking\" or \"Order Status\" section. Alternatively, you can log in to your account and go to the \"My Orders\" or \"Order History\" page, where you should be able to find relevant information about your order's progress. If you need further assistance or encounter any issues, please let me know. I'm here to help you every step of the way!\n",
      "Category: ORDER\n",
      "Intent: track_order\n"
     ]
    }
   ],
   "source": [
    "from datasets import load_dataset, load_from_disk\n",
    "import pandas as pd\n",
    "\n",
    "# Load your saved splits (assuming you saved them from the previous step)\n",
    "new_train_data = load_from_disk(\"./bitext_customer_support_train_split\")\n",
    "validation_data = load_from_disk(\"./bitext_customer_support_validation_split\")\n",
    "test_data = load_from_disk(\"./bitext_customer_support_test_split\")\n",
    "\n",
    "print(\"Example from new_train_data:\")\n",
    "print(new_train_data[0])\n",
    "\n",
    "# To view a few more examples and see the structure clearly\n",
    "for i in range(3):\n",
    "    print(f\"\\n--- Example {i+1} ---\")\n",
    "    print(f\"Instruction: {new_train_data[i]['instruction']}\")\n",
    "    print(f\"Response: {new_train_data[i]['response']}\")\n",
    "    print(f\"Category: {new_train_data[i]['category']}\")\n",
    "    print(f\"Intent: {new_train_data[i]['intent']}\")\n",
    "    # print(f\"Flags: {new_train_data[i]['flags']}\") # Check flags if it seems relevant"
   ]
  },
  {
   "cell_type": "code",
   "execution_count": 6,
   "metadata": {},
   "outputs": [
    {
     "data": {
      "image/png": "[encoded data removed]",
      "text/plain": [
       "<Figure size 1200x500 with 2 Axes>"
      ]
     },
     "metadata": {},
     "output_type": "display_data"
    }
   ],
   "source": [
    "# For training data (new_train_data)\n",
    "instruction_lengths = [len(x.split()) for x in new_train_data['instruction']]\n",
    "response_lengths = [len(x.split()) for x in new_train_data['response']]\n",
    "\n",
    "import matplotlib.pyplot as plt\n",
    "plt.figure(figsize=(12, 5))\n",
    "plt.subplot(1, 2, 1)\n",
    "plt.hist(instruction_lengths, bins=50)\n",
    "plt.title('Distribution of Instruction Lengths (words)')\n",
    "plt.subplot(1, 2, 2)\n",
    "plt.hist(response_lengths, bins=50)\n",
    "plt.title('Distribution of Response Lengths (words)')\n",
    "plt.tight_layout()\n",
    "plt.show()"
   ]
  },
  {
   "cell_type": "code",
   "execution_count": 7,
   "metadata": {},
   "outputs": [
    {
     "name": "stdout",
     "output_type": "stream",
     "text": [
      "\n",
      "Category Distribution:\n",
      "ACCOUNT         4776\n",
      "ORDER           3174\n",
      "REFUND          2414\n",
      "DELIVERY        1612\n",
      "PAYMENT         1607\n",
      "SHIPPING        1593\n",
      "INVOICE         1592\n",
      "CONTACT         1588\n",
      "FEEDBACK        1587\n",
      "SUBSCRIPTION     785\n",
      "CANCEL           769\n",
      "Name: count, dtype: int64\n",
      "\n",
      "Intent Distribution:\n",
      "delivery_period             821\n",
      "payment_issue               815\n",
      "check_refund_policy         812\n",
      "registration_problems       811\n",
      "set_up_shipping_address     811\n",
      "get_refund                  809\n",
      "contact_customer_service    807\n",
      "delete_account              803\n",
      "switch_account              803\n",
      "place_order                 801\n",
      "complaint                   800\n",
      "track_order                 796\n",
      "check_invoice               796\n",
      "get_invoice                 796\n",
      "change_order                795\n",
      "track_refund                793\n",
      "check_payment_methods       792\n",
      "delivery_options            791\n",
      "edit_account                789\n",
      "recover_password            788\n",
      "review                      787\n",
      "newsletter_subscription     785\n",
      "change_shipping_address     782\n",
      "cancel_order                782\n",
      "create_account              782\n",
      "contact_human_agent         781\n",
      "check_cancellation_fee      769\n",
      "Name: count, dtype: int64\n"
     ]
    }
   ],
   "source": [
    "print(\"\\nCategory Distribution:\")\n",
    "print(pd.Series(new_train_data['category']).value_counts())\n",
    "print(\"\\nIntent Distribution:\")\n",
    "print(pd.Series(new_train_data['intent']).value_counts())"
   ]
  },
  {
   "cell_type": "markdown",
   "metadata": {},
   "source": [
    "# EDA"
   ]
  },
  {
   "cell_type": "code",
   "execution_count": 8,
   "metadata": {},
   "outputs": [],
   "source": [
    "# Make sure you have these installed:\n",
    "# pip install pandas scikit-learn\n",
    "# If you haven't already: pip install datasets\n",
    "\n",
    "from datasets import load_from_disk\n",
    "import pandas as pd\n",
    "from sklearn.preprocessing import LabelEncoder\n",
    "import re # For regular expressions in cleaning"
   ]
  },
  {
   "cell_type": "code",
   "execution_count": 9,
   "metadata": {},
   "outputs": [
    {
     "name": "stdout",
     "output_type": "stream",
     "text": [
      "Splits loaded successfully.\n"
     ]
    }
   ],
   "source": [
    "# Load your saved splits\n",
    "new_train_data = load_from_disk(\"./bitext_customer_support_train_split\")\n",
    "validation_data = load_from_disk(\"./bitext_customer_support_validation_split\")\n",
    "test_data = load_from_disk(\"./bitext_customer_support_test_split\")\n",
    "\n",
    "print(\"Splits loaded successfully.\")"
   ]
  },
  {
   "cell_type": "code",
   "execution_count": 10,
   "metadata": {},
   "outputs": [
    {
     "name": "stdout",
     "output_type": "stream",
     "text": [
      "Text cleaning function defined.\n"
     ]
    }
   ],
   "source": [
    "def clean_text(text):\n",
    "    text = text.lower()  # Lowercase\n",
    "    text = re.sub(r'http\\S+|www\\S+|https\\S+', '', text, flags=re.MULTILINE) # Remove URLs\n",
    "    text = re.sub(r'[^\\w\\s]', '', text) # Remove punctuation (keeps letters, numbers, spaces)\n",
    "    text = re.sub(r'\\d+', '', text) # Remove numbers\n",
    "    text = re.sub(r'\\s+', ' ', text).strip() # Remove extra whitespace\n",
    "    return text\n",
    "\n",
    "print(\"Text cleaning function defined.\")"
   ]
  },
  {
   "cell_type": "code",
   "execution_count": 11,
   "metadata": {},
   "outputs": [
    {
     "name": "stdout",
     "output_type": "stream",
     "text": [
      "\n",
      "Data processing complete for all splits.\n",
      "Number of unique intents: 27\n",
      "Example original intent: change_order\n",
      "Example encoded intent: 1\n",
      "Example cleaned instruction: i am trying to delete some items from order order number\n"
     ]
    }
   ],
   "source": [
    "# Create a dictionary to hold your processed data\n",
    "processed_data = {}\n",
    "label_encoder = LabelEncoder()\n",
    "\n",
    "# Process Training Data\n",
    "X_train_raw = new_train_data['instruction']\n",
    "y_train_raw = new_train_data['intent']\n",
    "\n",
    "X_train_cleaned = [clean_text(text) for text in X_train_raw]\n",
    "y_train_encoded = label_encoder.fit_transform(y_train_raw) # Fit and transform on training labels\n",
    "\n",
    "processed_data['X_train'] = X_train_cleaned\n",
    "processed_data['y_train'] = y_train_encoded\n",
    "\n",
    "# Process Validation Data\n",
    "X_val_raw = validation_data['instruction']\n",
    "y_val_raw = validation_data['intent']\n",
    "\n",
    "X_val_cleaned = [clean_text(text) for text in X_val_raw]\n",
    "y_val_encoded = label_encoder.transform(y_val_raw) # ONLY transform on validation labels (use same encoder as train)\n",
    "\n",
    "processed_data['X_val'] = X_val_cleaned\n",
    "processed_data['y_val'] = y_val_encoded\n",
    "\n",
    "\n",
    "# Process Test Data\n",
    "X_test_raw = test_data['instruction']\n",
    "y_test_raw = test_data['intent']\n",
    "\n",
    "X_test_cleaned = [clean_text(text) for text in X_test_raw]\n",
    "y_test_encoded = label_encoder.transform(y_test_raw) # ONLY transform on test labels\n",
    "\n",
    "processed_data['X_test'] = X_test_cleaned\n",
    "processed_data['y_test'] = y_test_encoded\n",
    "\n",
    "# Store the label encoder for later use (to convert numerical predictions back to intent names)\n",
    "processed_data['label_encoder'] = label_encoder\n",
    "\n",
    "print(\"\\nData processing complete for all splits.\")\n",
    "print(f\"Number of unique intents: {len(label_encoder.classes_)}\")\n",
    "print(f\"Example original intent: {y_train_raw[0]}\")\n",
    "print(f\"Example encoded intent: {y_train_encoded[0]}\")\n",
    "print(f\"Example cleaned instruction: {X_train_cleaned[0]}\")\n",
    "\n",
    "# You can access your processed data like:\n",
    "# X_train = processed_data['X_train']\n",
    "# y_train = processed_data['y_train']\n",
    "# X_val = processed_data['X_val']\n",
    "# y_val = processed_data['y_val']\n",
    "# X_test = processed_data['X_test']\n",
    "# y_test = processed_data['y_test']\n",
    "# le = processed_data['label_encoder'] # Use this to inverse_transform predictions"
   ]
  },
  {
   "cell_type": "markdown",
   "metadata": {},
   "source": [
    "# Step 2: Implement Baseline Intent Detection Model (TF-IDF + Logistic Regression)"
   ]
  },
  {
   "cell_type": "code",
   "execution_count": 12,
   "metadata": {},
   "outputs": [],
   "source": [
    "# Make sure these are installed:\n",
    "# pip install scikit-learn\n",
    "\n",
    "from sklearn.feature_extraction.text import TfidfVectorizer\n",
    "from sklearn.linear_model import LogisticRegression\n",
    "from sklearn.metrics import classification_report, accuracy_score\n",
    "import pandas as pd # For better display of classification report"
   ]
  },
  {
   "cell_type": "code",
   "execution_count": 13,
   "metadata": {},
   "outputs": [
    {
     "name": "stdout",
     "output_type": "stream",
     "text": [
      "Loaded training data size: 21497\n",
      "Loaded validation data size: 2687\n",
      "Loaded test data size: 2688\n"
     ]
    }
   ],
   "source": [
    "# Assuming 'processed_data' dictionary is still in your environment\n",
    "# If not, re-run the previous 'Data Preparation' cell to load it.\n",
    "X_train = processed_data['X_train']\n",
    "y_train = processed_data['y_train']\n",
    "X_val = processed_data['X_val']\n",
    "y_val = processed_data['y_val']\n",
    "X_test = processed_data['X_test']\n",
    "y_test = processed_data['y_test']\n",
    "label_encoder = processed_data['label_encoder']\n",
    "\n",
    "print(f\"Loaded training data size: {len(X_train)}\")\n",
    "print(f\"Loaded validation data size: {len(X_val)}\")\n",
    "print(f\"Loaded test data size: {len(X_test)}\")"
   ]
  },
  {
   "cell_type": "code",
   "execution_count": 14,
   "metadata": {},
   "outputs": [
    {
     "name": "stdout",
     "output_type": "stream",
     "text": [
      "\n",
      "--- TF-IDF Vectorization ---\n",
      "X_train_tfidf shape: (21497, 5000)\n",
      "X_val_tfidf shape: (2687, 5000)\n",
      "X_test_tfidf shape: (2688, 5000)\n",
      "TF-IDF Vectorization complete.\n"
     ]
    }
   ],
   "source": [
    "print(\"\\n--- TF-IDF Vectorization ---\")\n",
    "# Initialize the TF-IDF Vectorizer\n",
    "# max_features limits the number of features (vocabulary size), can help with memory/speed\n",
    "# ngram_range=(1, 2) includes single words (unigrams) and two-word phrases (bigrams)\n",
    "tfidf_vectorizer = TfidfVectorizer(max_features=5000, ngram_range=(1, 2))\n",
    "\n",
    "# Fit the vectorizer on the TRAINING data and transform it\n",
    "X_train_tfidf = tfidf_vectorizer.fit_transform(X_train)\n",
    "\n",
    "# ONLY transform the validation and test data (DO NOT fit again)\n",
    "X_val_tfidf = tfidf_vectorizer.transform(X_val)\n",
    "X_test_tfidf = tfidf_vectorizer.transform(X_test)\n",
    "\n",
    "print(f\"X_train_tfidf shape: {X_train_tfidf.shape}\")\n",
    "print(f\"X_val_tfidf shape: {X_val_tfidf.shape}\")\n",
    "print(f\"X_test_tfidf shape: {X_test_tfidf.shape}\")\n",
    "print(\"TF-IDF Vectorization complete.\")"
   ]
  },
  {
   "cell_type": "code",
   "execution_count": 15,
   "metadata": {},
   "outputs": [
    {
     "name": "stdout",
     "output_type": "stream",
     "text": [
      "\n",
      "--- Training Logistic Regression Model ---\n"
     ]
    },
    {
     "name": "stderr",
     "output_type": "stream",
     "text": [
      "/Library/Frameworks/Python.framework/Versions/3.12/lib/python3.12/site-packages/sklearn/linear_model/_logistic.py:1223: UserWarning: 'n_jobs' > 1 does not have any effect when 'solver' is set to 'liblinear'. Got 'n_jobs' = 8.\n",
      "  warnings.warn(\n"
     ]
    },
    {
     "name": "stdout",
     "output_type": "stream",
     "text": [
      "Logistic Regression model training complete.\n"
     ]
    }
   ],
   "source": [
    "print(\"\\n--- Training Logistic Regression Model ---\")\n",
    "# Initialize the Logistic Regression model\n",
    "# solver='liblinear' is good for smaller datasets and handles L1/L2 regularization\n",
    "# multi_class='ovr' (one-vs-rest) is suitable for multi-class classification\n",
    "log_reg_model = LogisticRegression(solver='liblinear', multi_class='ovr', random_state=42, n_jobs=-1, max_iter=1000)\n",
    "\n",
    "# Train the model\n",
    "log_reg_model.fit(X_train_tfidf, y_train)\n",
    "\n",
    "print(\"Logistic Regression model training complete.\")"
   ]
  },
  {
   "cell_type": "code",
   "execution_count": 16,
   "metadata": {},
   "outputs": [
    {
     "name": "stdout",
     "output_type": "stream",
     "text": [
      "\n",
      "--- Model Evaluation ---\n",
      "\n",
      "Validation Set Evaluation:\n",
      "Accuracy: 0.9914\n",
      "\n",
      "Classification Report (Validation Set):\n",
      "                          precision    recall  f1-score   support\n",
      "\n",
      "            cancel_order       0.99      0.97      0.98       107\n",
      "            change_order       0.94      0.99      0.97       104\n",
      " change_shipping_address       1.00      1.00      1.00        98\n",
      "  check_cancellation_fee       0.99      1.00      1.00       107\n",
      "           check_invoice       0.98      1.00      0.99        85\n",
      "   check_payment_methods       1.00      0.98      0.99       101\n",
      "     check_refund_policy       1.00      0.99      0.99        90\n",
      "               complaint       1.00      1.00      1.00       120\n",
      "contact_customer_service       1.00      0.99      0.99        94\n",
      "     contact_human_agent       0.99      1.00      1.00       102\n",
      "          create_account       0.99      0.98      0.99       114\n",
      "          delete_account       0.97      1.00      0.99       102\n",
      "        delivery_options       1.00      1.00      1.00        99\n",
      "         delivery_period       1.00      1.00      1.00        82\n",
      "            edit_account       1.00      1.00      1.00       115\n",
      "             get_invoice       1.00      0.98      0.99        92\n",
      "              get_refund       1.00      1.00      1.00        88\n",
      " newsletter_subscription       1.00      1.00      1.00       109\n",
      "           payment_issue       0.97      0.98      0.97        91\n",
      "             place_order       0.98      0.99      0.98        93\n",
      "        recover_password       1.00      1.00      1.00       106\n",
      "   registration_problems       0.97      0.97      0.97        93\n",
      "                  review       1.00      1.00      1.00       100\n",
      " set_up_shipping_address       1.00      0.99      1.00       101\n",
      "          switch_account       1.00      0.99      0.99        93\n",
      "             track_order       1.00      0.97      0.99       104\n",
      "            track_refund       1.00      1.00      1.00        97\n",
      "\n",
      "                accuracy                           0.99      2687\n",
      "               macro avg       0.99      0.99      0.99      2687\n",
      "            weighted avg       0.99      0.99      0.99      2687\n",
      "\n",
      "\n",
      "Test Set Evaluation:\n",
      "Accuracy: 0.9922\n",
      "\n",
      "Classification Report (Test Set):\n",
      "                          precision    recall  f1-score   support\n",
      "\n",
      "            cancel_order       0.98      0.96      0.97       109\n",
      "            change_order       0.95      1.00      0.98        98\n",
      " change_shipping_address       1.00      0.99      0.99        93\n",
      "  check_cancellation_fee       0.99      1.00      0.99        74\n",
      "           check_invoice       0.97      0.98      0.98       119\n",
      "   check_payment_methods       1.00      1.00      1.00       106\n",
      "     check_refund_policy       1.00      1.00      1.00        95\n",
      "               complaint       1.00      1.00      1.00        80\n",
      "contact_customer_service       1.00      0.99      0.99        99\n",
      "     contact_human_agent       0.99      1.00      1.00       116\n",
      "          create_account       1.00      0.96      0.98       101\n",
      "          delete_account       0.97      1.00      0.98        90\n",
      "        delivery_options       1.00      1.00      1.00       105\n",
      "         delivery_period       0.98      1.00      0.99        96\n",
      "            edit_account       0.98      1.00      0.99        96\n",
      "             get_invoice       1.00      0.97      0.99       111\n",
      "              get_refund       0.99      0.99      0.99       100\n",
      " newsletter_subscription       1.00      0.99      1.00       105\n",
      "           payment_issue       0.99      1.00      0.99        93\n",
      "             place_order       1.00      1.00      1.00       104\n",
      "        recover_password       1.00      1.00      1.00       101\n",
      "   registration_problems       1.00      0.99      0.99        95\n",
      "                  review       1.00      1.00      1.00       110\n",
      " set_up_shipping_address       1.00      1.00      1.00        85\n",
      "          switch_account       1.00      1.00      1.00       104\n",
      "             track_order       1.00      0.97      0.98        95\n",
      "            track_refund       1.00      1.00      1.00       108\n",
      "\n",
      "                accuracy                           0.99      2688\n",
      "               macro avg       0.99      0.99      0.99      2688\n",
      "            weighted avg       0.99      0.99      0.99      2688\n",
      "\n",
      "\n",
      "Baseline Model training and evaluation complete.\n"
     ]
    }
   ],
   "source": [
    "print(\"\\n--- Model Evaluation ---\")\n",
    "\n",
    "# Predict on the Validation Set\n",
    "y_val_pred = log_reg_model.predict(X_val_tfidf)\n",
    "\n",
    "print(\"\\nValidation Set Evaluation:\")\n",
    "print(f\"Accuracy: {accuracy_score(y_val, y_val_pred):.4f}\")\n",
    "print(\"\\nClassification Report (Validation Set):\")\n",
    "# Use the label_encoder to get original intent names for the report\n",
    "print(classification_report(y_val, y_val_pred, target_names=label_encoder.classes_, zero_division=0))\n",
    "\n",
    "# Predict on the Test Set\n",
    "y_test_pred = log_reg_model.predict(X_test_tfidf)\n",
    "\n",
    "print(\"\\nTest Set Evaluation:\")\n",
    "print(f\"Accuracy: {accuracy_score(y_test, y_test_pred):.4f}\")\n",
    "print(\"\\nClassification Report (Test Set):\")\n",
    "print(classification_report(y_test, y_test_pred, target_names=label_encoder.classes_, zero_division=0))\n",
    "\n",
    "print(\"\\nBaseline Model training and evaluation complete.\")"
   ]
  },
  {
   "cell_type": "code",
   "execution_count": 17,
   "metadata": {},
   "outputs": [
    {
     "name": "stdout",
     "output_type": "stream",
     "text": [
      "\n",
      "Test Set Evaluation:\n",
      "Accuracy: 0.9922\n",
      "\n",
      "Classification Report (Test Set):\n",
      "                          precision    recall  f1-score   support\n",
      "\n",
      "            cancel_order       0.98      0.96      0.97       109\n",
      "            change_order       0.95      1.00      0.98        98\n",
      " change_shipping_address       1.00      0.99      0.99        93\n",
      "  check_cancellation_fee       0.99      1.00      0.99        74\n",
      "           check_invoice       0.97      0.98      0.98       119\n",
      "   check_payment_methods       1.00      1.00      1.00       106\n",
      "     check_refund_policy       1.00      1.00      1.00        95\n",
      "               complaint       1.00      1.00      1.00        80\n",
      "contact_customer_service       1.00      0.99      0.99        99\n",
      "     contact_human_agent       0.99      1.00      1.00       116\n",
      "          create_account       1.00      0.96      0.98       101\n",
      "          delete_account       0.97      1.00      0.98        90\n",
      "        delivery_options       1.00      1.00      1.00       105\n",
      "         delivery_period       0.98      1.00      0.99        96\n",
      "            edit_account       0.98      1.00      0.99        96\n",
      "             get_invoice       1.00      0.97      0.99       111\n",
      "              get_refund       0.99      0.99      0.99       100\n",
      " newsletter_subscription       1.00      0.99      1.00       105\n",
      "           payment_issue       0.99      1.00      0.99        93\n",
      "             place_order       1.00      1.00      1.00       104\n",
      "        recover_password       1.00      1.00      1.00       101\n",
      "   registration_problems       1.00      0.99      0.99        95\n",
      "                  review       1.00      1.00      1.00       110\n",
      " set_up_shipping_address       1.00      1.00      1.00        85\n",
      "          switch_account       1.00      1.00      1.00       104\n",
      "             track_order       1.00      0.97      0.98        95\n",
      "            track_refund       1.00      1.00      1.00       108\n",
      "\n",
      "                accuracy                           0.99      2688\n",
      "               macro avg       0.99      0.99      0.99      2688\n",
      "            weighted avg       0.99      0.99      0.99      2688\n",
      "\n"
     ]
    }
   ],
   "source": [
    "# Predict on the Test Set\n",
    "y_test_pred = log_reg_model.predict(X_test_tfidf)\n",
    "\n",
    "print(\"\\nTest Set Evaluation:\")\n",
    "print(f\"Accuracy: {accuracy_score(y_test, y_test_pred):.4f}\")\n",
    "print(\"\\nClassification Report (Test Set):\")\n",
    "print(classification_report(y_test, y_test_pred, target_names=label_encoder.classes_, zero_division=0))"
   ]
  },
  {
   "cell_type": "markdown",
   "metadata": {},
   "source": [
    "# Step 3: Implement Sentiment Analysis"
   ]
  },
  {
   "cell_type": "code",
   "execution_count": 19,
   "metadata": {},
   "outputs": [
    {
     "data": {
      "application/vnd.jupyter.widget-view+json": {
       "model_id": "1fe29bf727464bde9e13b70c012b289d",
       "version_major": 2,
       "version_minor": 0
      },
      "text/plain": [
       "model.safetensors:   0%|          | 0.00/268M [00:00<?, ?B/s]"
      ]
     },
     "metadata": {},
     "output_type": "display_data"
    },
    {
     "data": {
      "application/vnd.jupyter.widget-view+json": {
       "model_id": "840b8d869cc0412bad2c7479ce099f42",
       "version_major": 2,
       "version_minor": 0
      },
      "text/plain": [
       "tokenizer_config.json:   0%|          | 0.00/48.0 [00:00<?, ?B/s]"
      ]
     },
     "metadata": {},
     "output_type": "display_data"
    },
    {
     "data": {
      "application/vnd.jupyter.widget-view+json": {
       "model_id": "b0a8a8a282c7471191bbb6611bf03d32",
       "version_major": 2,
       "version_minor": 0
      },
      "text/plain": [
       "vocab.txt:   0%|          | 0.00/232k [00:00<?, ?B/s]"
      ]
     },
     "metadata": {},
     "output_type": "display_data"
    },
    {
     "name": "stderr",
     "output_type": "stream",
     "text": [
      "Device set to use mps:0\n"
     ]
    },
    {
     "name": "stdout",
     "output_type": "stream",
     "text": [
      "Text: 'Thank you so much for your quick help, everything is resolved!'\n",
      "Sentiment: [{'label': 'POSITIVE', 'score': 0.9998431205749512}]\n",
      "\n",
      "Text: 'I am trying to delete some items from order 12345, this is ridiculous!'\n",
      "Sentiment: [{'label': 'NEGATIVE', 'score': 0.9997761845588684}]\n"
     ]
    }
   ],
   "source": [
    "from transformers import pipeline\n",
    "\n",
    "sentiment_analyzer = pipeline(\"sentiment-analysis\", model=\"distilbert-base-uncased-finetuned-sst-2-english\")\n",
    "\n",
    "# Test with some example texts\n",
    "text1 = \"Thank you so much for your quick help, everything is resolved!\"\n",
    "result1 = sentiment_analyzer(text1)\n",
    "print(f\"Text: '{text1}'\\nSentiment: {result1}\")\n",
    "\n",
    "text2 = \"I am trying to delete some items from order 12345, this is ridiculous!\"\n",
    "result2 = sentiment_analyzer(text2)\n",
    "print(f\"\\nText: '{text2}'\\nSentiment: {result2}\")"
   ]
  },
  {
   "cell_type": "code",
   "execution_count": 20,
   "metadata": {},
   "outputs": [
    {
     "name": "stdout",
     "output_type": "stream",
     "text": [
      "Data for Knowledge Base loaded. Size: 26872\n",
      "\n",
      "Knowledge Base built for 27 unique intents.\n",
      "\n",
      "--- Example Knowledge Base Entries ---\n",
      "\n",
      "Intent: 'cancel_order'\n",
      "  Snippet 1: I've realized that you're facing difficulties with canceling your purchase with order number <Order Number>. Rest assured, I'm here to assist you in r...\n",
      "  Snippet 2: I appreciate that you're facing financial constraints and need to cancel your purchase with the order number <Order Number>. Your financial well-being...\n",
      "\n",
      "Intent: 'change_order'\n",
      "  Snippet 1: I see what you mean your need to edit order number <Order Number>. We're here to assist you in making the necessary changes. To better help you, could...\n",
      "  Snippet 2: Thank you for reaching out! I'm here to help you with any questions you may have about correcting order number <Order Number>. Please feel free to ask...\n",
      "\n",
      "Intent: 'change_shipping_address'\n",
      "  Snippet 1: I'll make it happen! If you need to correct your delivery address, you can easily do so by logging into your account on our website. Once you're logge...\n",
      "  Snippet 2: I'm happy to help! A delivery address update is when you need to change the address where your package will be delivered. This can be necessary if you...\n"
     ]
    }
   ],
   "source": [
    "from datasets import load_from_disk\n",
    "import pandas as pd\n",
    "import re # For cleaning placeholders (optional, but good for suggestions)\n",
    "\n",
    "# Load your new_train_data split (or the full 'dataset' if you want a larger KB)\n",
    "# For the KB, it's often good to use the full original training data as it contains all examples.\n",
    "# Let's reload the original training split before your custom split\n",
    "# Or, if you prefer using new_train_data for KB, that's fine too.\n",
    "# For maximum coverage, using the full 'train' split from load_dataset is best for KB.\n",
    "\n",
    "# If you only saved the custom splits:\n",
    "# new_train_data = load_from_disk(\"./bitext_customer_support_train_split\")\n",
    "# data_for_kb = new_train_data # Using your larger custom train split for KB\n",
    "\n",
    "# If you prefer to load the original 'train' split for the KB:\n",
    "from datasets import load_dataset\n",
    "full_original_dataset = load_dataset(\"bitext/Bitext-customer-support-llm-chatbot-training-dataset\")\n",
    "data_for_kb = full_original_dataset['train'] # Use the larger original train split for the KB\n",
    "\n",
    "print(f\"Data for Knowledge Base loaded. Size: {len(data_for_kb)}\")\n",
    "\n",
    "# Function to clean placeholders (optional, depending on how you want to present)\n",
    "def clean_placeholders(text):\n",
    "    # This regex looks for {{...}} patterns and replaces them with a more generic descriptor\n",
    "    # Or, you can just remove them: re.sub(r'\\{\\{.*?\\}\\}', '', text)\n",
    "    text = re.sub(r'\\{\\{(.*?)\\}\\}', r'<\\1>', text) # e.g., {{Order Number}} -> <Order Number>\n",
    "    return text\n",
    "\n",
    "# --- Build the Knowledge Base Dictionary ---\n",
    "knowledge_base = {}\n",
    "\n",
    "for entry in data_for_kb:\n",
    "    intent = entry['intent']\n",
    "    response_text = entry['response']\n",
    "    # You might want to clean response text too, e.g., remove specific greetings/closings\n",
    "    cleaned_response = clean_placeholders(response_text) # Apply placeholder cleaning\n",
    "\n",
    "    if intent not in knowledge_base:\n",
    "        knowledge_base[intent] = set() # Use a set to store unique responses\n",
    "    knowledge_base[intent].add(cleaned_response)\n",
    "\n",
    "# Convert sets to lists for easier use\n",
    "for intent in knowledge_base:\n",
    "    knowledge_base[intent] = list(knowledge_base[intent])\n",
    "\n",
    "print(f\"\\nKnowledge Base built for {len(knowledge_base)} unique intents.\")\n",
    "\n",
    "# --- Display a few examples from the Knowledge Base ---\n",
    "print(\"\\n--- Example Knowledge Base Entries ---\")\n",
    "example_intents = list(knowledge_base.keys())[:3] # Get first 3 intents\n",
    "for intent_name in example_intents:\n",
    "    print(f\"\\nIntent: '{intent_name}'\")\n",
    "    for i, response in enumerate(knowledge_base[intent_name][:2]): # Show up to 2 responses per intent\n",
    "        print(f\"  Snippet {i+1}: {response[:150]}...\") # Truncate for display"
   ]
  },
  {
   "cell_type": "code",
   "execution_count": 21,
   "metadata": {},
   "outputs": [
    {
     "name": "stdout",
     "output_type": "stream",
     "text": [
      "\n",
      "Detected Intent: 'track_order'\n",
      "Suggested Knowledge Base Articles/Responses:\n",
      "  - We value your outreach! I'm in tune with the fact that you would like to check the estimated time of arrival (ETA) for your purchase with the purchase number <Order Number>. To provide you with accura...\n",
      "  - I appreciate your request for assistance in viewing the estimated time of arrival (ETA) for order number <Order Number>. To provide you with accurate information about the ETA, I kindly ask you to vis...\n",
      "  - We're listening! I'm keyed into the fact that you would like assistance in checking the status of your purchase with the purchase number <Order Number>. To view the current status of your purchase, pl...\n",
      "\n",
      "Simulated Customer Instruction: 'I want to know if my payment went through for my last order.'\n",
      "Predicted Intent (from your model): 'check_payment_methods'\n",
      "Suggested Knowledge Base Articles/Responses:\n",
      "  - I'm on it! I'm here to help you discover the various payment methods we offer. \n",
      "\n",
      "At our company, we provide a wide range of payment options to ensure convenience and flexibility for our customers. Som...\n",
      "  - Sure! I'm here to assist you with viewing our available payment methods. To ensure a seamless and convenient shopping experience, we offer a diverse range of payment options. You can find the complete...\n",
      "  - Assuredly! I'm here to help you check the allowed payment methods. We strive to provide our customers with a wide range of options to ensure convenience and flexibility in their transactions. Here is ...\n"
     ]
    }
   ],
   "source": [
    "# --- Example of retrieving contextual information ---\n",
    "# Assume you have an instruction from the user and have detected its intent\n",
    "\n",
    "# Example 1: Use a known intent\n",
    "detected_intent_example1 = \"track_order\"\n",
    "print(f\"\\nDetected Intent: '{detected_intent_example1}'\")\n",
    "if detected_intent_example1 in knowledge_base:\n",
    "    print(\"Suggested Knowledge Base Articles/Responses:\")\n",
    "    for i, snippet in enumerate(knowledge_base[detected_intent_example1][:3]): # Show top 3 suggestions\n",
    "        print(f\"  - {snippet[:200]}...\") # Show up to 200 chars\n",
    "else:\n",
    "    print(\"No specific KB articles found for this intent.\")\n",
    "\n",
    "\n",
    "# Example 2: Simulate a new user query\n",
    "# You would get 'instruction' from your Streamlit input\n",
    "simulated_customer_instruction = \"I want to know if my payment went through for my last order.\"\n",
    "# Then, use your Intent Detection model to predict the intent\n",
    "# For now, let's manually assume it predicts 'check_payment_methods'\n",
    "predicted_intent_for_simulated_query = \"check_payment_methods\"\n",
    "\n",
    "print(f\"\\nSimulated Customer Instruction: '{simulated_customer_instruction}'\")\n",
    "print(f\"Predicted Intent (from your model): '{predicted_intent_for_simulated_query}'\")\n",
    "\n",
    "if predicted_intent_for_simulated_query in knowledge_base:\n",
    "    print(\"Suggested Knowledge Base Articles/Responses:\")\n",
    "    for i, snippet in enumerate(knowledge_base[predicted_intent_for_simulated_query][:3]):\n",
    "        print(f\"  - {snippet[:200]}...\")\n",
    "else:\n",
    "    print(\"No specific KB articles found for this intent.\")"
   ]
  },
  {
   "cell_type": "markdown",
   "metadata": {},
   "source": [
    "# Step 5: Pre-written Response Recommendation"
   ]
  },
  {
   "cell_type": "code",
   "execution_count": 22,
   "metadata": {},
   "outputs": [
    {
     "name": "stdout",
     "output_type": "stream",
     "text": [
      "\n",
      "--- Example Recommended Responses ---\n",
      "\n",
      "Intent: 'cancel_order'\n",
      "  Recommended: I've realized that you're facing difficulties with canceling your purchase with order number <Order Number>. Rest assured, I'm here to assist you in resolving this issue promptly. To help you cancel t...\n",
      "\n",
      "Intent: 'change_order'\n",
      "  Recommended: I see what you mean your need to edit order number <Order Number>. We're here to assist you in making the necessary changes. To better help you, could you please provide more details about the specifi...\n",
      "\n",
      "Intent: 'change_shipping_address'\n",
      "  Recommended: I'll make it happen! If you need to correct your delivery address, you can easily do so by logging into your account on our website. Once you're logged in, navigate to your account settings and look f...\n"
     ]
    }
   ],
   "source": [
    "\n",
    "# Assuming 'knowledge_base' dictionary is already built from previous steps\n",
    "\n",
    "# --- Create a more curated set of suggested responses for recommendations ---\n",
    "# This is a manual curation step or a selection strategy.\n",
    "# For simplicity, we'll just take the first recommended response from our knowledge_base\n",
    "# for each intent. In a real system, you might have specific \"template_id\" for each.\n",
    "\n",
    "recommended_responses = {\n",
    "    intent: responses[0] if responses else \"No recommended response available.\"\n",
    "    for intent, responses in knowledge_base.items()\n",
    "}\n",
    "\n",
    "print(\"\\n--- Example Recommended Responses ---\")\n",
    "example_intents = list(recommended_responses.keys())[:3] # Get first 3 intents\n",
    "for intent_name in example_intents:\n",
    "    print(f\"\\nIntent: '{intent_name}'\")\n",
    "    print(f\"  Recommended: {recommended_responses[intent_name][:200]}...\") # Truncate for display"
   ]
  },
  {
   "cell_type": "code",
   "execution_count": 23,
   "metadata": {},
   "outputs": [
    {
     "name": "stdout",
     "output_type": "stream",
     "text": [
      "\n",
      "--- Recommended Response for 'check_payment_methods' ---\n",
      "Agent Recommendation: I'm on it! I'm here to help you discover the various payment methods we offer. \n",
      "\n",
      "At our company, we provide a wide range of payment options to ensure convenience and flexibility for our customers. Some of the available payment methods include:\n",
      "\n",
      "- Credit/Debit Card: We accept major card brands such as Visa, Mastercard, and American Express, allowing you to securely make payments with your preferred card.\n",
      "\n",
      "- PayPal: As a popular online payment platform, PayPal offers a secure and convenient way to make purchases. It's a widely recognized and trusted method accepted by numerous online retailers.\n",
      "\n",
      "- Bank Transfer: This payment option enables you to make direct transfers from your bank account, providing a secure and direct payment method.\n",
      "\n",
      "- Mobile Payment Apps: We also have options like Apple Pay and Google Pay available, allowing you to make seamless transactions using your mobile device.\n",
      "\n",
      "These are just a few of the payment methods we offer. If you have any specific questions or need further assistance with any of these options, please let me know. Our goal is to make your payment experience as smooth and convenient as possible.\n"
     ]
    }
   ],
   "source": [
    "# Example: Using a predicted intent to get a recommended response\n",
    "predicted_intent_example = \"check_payment_methods\" # Replace with actual model prediction\n",
    "\n",
    "print(f\"\\n--- Recommended Response for '{predicted_intent_example}' ---\")\n",
    "if predicted_intent_example in recommended_responses:\n",
    "    print(f\"Agent Recommendation: {recommended_responses[predicted_intent_example]}\")\n",
    "else:\n",
    "    print(\"No specific recommended response found for this intent.\")"
   ]
  },
  {
   "cell_type": "code",
   "execution_count": 24,
   "metadata": {},
   "outputs": [
    {
     "name": "stdout",
     "output_type": "stream",
     "text": [
      "\n",
      "--- Example Next Best Actions ---\n",
      "\n",
      "Predicted Intent: 'get_refund'\n",
      "Suggested Next Actions/Questions for Agent:\n",
      "  1. Ask for Order Number and Item Details.\n",
      "  2. Ask for Reason for Refund.\n",
      "  3. Explain Refund Policy and Timeline.\n"
     ]
    }
   ],
   "source": [
    "# Define rules for next best actions/questions\n",
    "next_best_actions = {\n",
    "    \"track_order\": [\n",
    "        \"Ask for Order Number.\",\n",
    "        \"Ask for Customer Name and Email.\",\n",
    "        \"Provide direct tracking link.\"\n",
    "    ],\n",
    "    \"get_refund\": [\n",
    "        \"Ask for Order Number and Item Details.\",\n",
    "        \"Ask for Reason for Refund.\",\n",
    "        \"Explain Refund Policy and Timeline.\"\n",
    "    ],\n",
    "    \"payment_issue\": [\n",
    "        \"Ask for Transaction ID or Order Number.\",\n",
    "        \"Ask for Payment Method Used.\",\n",
    "        \"Check payment status in system.\"\n",
    "    ],\n",
    "    \"change_order\": [\n",
    "        \"Ask for Order Number and specific items to change.\",\n",
    "        \"Explain order modification policy.\",\n",
    "        \"Confirm item availability.\"\n",
    "    ],\n",
    "    \"delete_account\": [\n",
    "        \"Verify Customer Identity.\",\n",
    "        \"Explain implications of account deletion.\",\n",
    "        \"Confirm deletion request.\"\n",
    "    ],\n",
    "    \"set_up_shipping_address\": [\n",
    "        \"Ask for full new address.\",\n",
    "        \"Confirm contact details.\",\n",
    "        \"Provide link to address management in portal.\"\n",
    "    ],\n",
    "    # Add more rules for other intents as needed\n",
    "}\n",
    "\n",
    "print(\"\\n--- Example Next Best Actions ---\")\n",
    "# Example: Using a predicted intent\n",
    "predicted_intent_nba = \"get_refund\" # Replace with actual model prediction\n",
    "\n",
    "print(f\"\\nPredicted Intent: '{predicted_intent_nba}'\")\n",
    "if predicted_intent_nba in next_best_actions:\n",
    "    print(\"Suggested Next Actions/Questions for Agent:\")\n",
    "    for i, action in enumerate(next_best_actions[predicted_intent_nba]):\n",
    "        print(f\"  {i+1}. {action}\")\n",
    "else:\n",
    "    print(\"No specific next actions defined for this intent.\")"
   ]
  },
  {
   "cell_type": "code",
   "execution_count": null,
   "metadata": {},
   "outputs": [],
   "source": []
  },
  {
   "cell_type": "code",
   "execution_count": null,
   "metadata": {},
   "outputs": [],
   "source": []
  },
  {
   "cell_type": "code",
   "execution_count": null,
   "metadata": {},
   "outputs": [],
   "source": []
  },
  {
   "cell_type": "code",
   "execution_count": null,
   "metadata": {},
   "outputs": [],
   "source": []
  }
 ],
 "metadata": {
  "kernelspec": {
   "display_name": "Python 3",
   "language": "python",
   "name": "python3"
  },
  "language_info": {
   "codemirror_mode": {
    "name": "ipython",
    "version": 3
   },
   "file_extension": ".py",
   "mimetype": "text/x-python",
   "name": "python",
   "nbconvert_exporter": "python",
   "pygments_lexer": "ipython3",
   "version": "3.12.0"
  }
 },
 "nbformat": 4,
 "nbformat_minor": 2
}
